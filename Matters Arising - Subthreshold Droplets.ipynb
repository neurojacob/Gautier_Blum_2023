{
 "cells": [
  {
   "cell_type": "code",
   "execution_count": null,
   "metadata": {},
   "outputs": [],
   "source": [
    "renv::init('/oak/stanford/groups/agitler/Shared/Shared_Jupyter_Notebook_Analysis/4.1.1-OG/')"
   ]
  },
  {
   "cell_type": "code",
   "execution_count": null,
   "metadata": {
    "scrolled": true
   },
   "outputs": [],
   "source": [
    "library(dplyr)\n",
    "library(Seurat)\n",
    "library(ggplot2)\n",
    "library(ggrepel)\n",
    "#library(ComplexHeatmap)\n",
    "library(pheatmap)\n",
    "library(gplots)\n",
    "library(svglite)\n",
    "library(hdf5r)\n",
    "library(DropletUtils)\n",
    "library(scDblFinder)\n",
    "library(scuttle)\n",
    "library(scales)\n",
    "library(ggrastr)"
   ]
  },
  {
   "cell_type": "code",
   "execution_count": null,
   "metadata": {},
   "outputs": [],
   "source": [
    "library(future)\n",
    "plan(\"multicore\", workers = availableCores())\n",
    "options(future.globals.maxSize= +Inf)\n",
    "# NotebookApp.max_buffer_size=214748364800"
   ]
  },
  {
   "cell_type": "markdown",
   "metadata": {},
   "source": [
    "### File Loading and Saving Directories"
   ]
  },
  {
   "cell_type": "code",
   "execution_count": 4,
   "metadata": {
    "collapsed": true
   },
   "outputs": [],
   "source": [
    "load.dir <- '/oak/stanford/groups/agitler/Shared_Sequencing/Jacob/Levine-Human-FastQ/h5_files'\n",
    "fig_dir <- '/oak/stanford/groups/agitler/Shared/Matters_Arising/Figure_Panels'\n",
    "csv_dir <- '/oak/stanford/groups/agitler/Shared/Matters_Arising/CSV_Files'"
   ]
  },
  {
   "cell_type": "markdown",
   "metadata": {},
   "source": [
    "### Load H5 Matrices from Yadav 2022"
   ]
  },
  {
   "cell_type": "code",
   "execution_count": null,
   "metadata": {},
   "outputs": [],
   "source": [
    "donor1_h5 <- Read10X_h5(paste(load.dir,'GSM5723843_Donor1_raw_feature_bc_matrix.h5',sep='/'), use.names = TRUE, unique.features = TRUE)\n",
    "donor2_h5 <- Read10X_h5(paste(load.dir,'GSM5723844_Donor2_raw_feature_bc_matrix.h5',sep='/'), use.names = TRUE, unique.features = TRUE)\n",
    "donor3_h5 <- Read10X_h5(paste(load.dir,'GSM5723845_Donor3_raw_feature_bc_matrix.h5',sep='/'), use.names = TRUE, unique.features = TRUE)\n",
    "donor4_h5 <- Read10X_h5(paste(load.dir,'GSM5723846_Donor4_raw_feature_bc_matrix.h5',sep='/'), use.names = TRUE, unique.features = TRUE)\n",
    "donor5_h5 <- Read10X_h5(paste(load.dir,'GSM5723847_Donor5_raw_feature_bc_matrix.h5',sep='/'), use.names = TRUE, unique.features = TRUE)\n",
    "donor6_h5 <- Read10X_h5(paste(load.dir,'GSM5723848_Donor6_raw_feature_bc_matrix.h5',sep='/'), use.names = TRUE, unique.features = TRUE)\n",
    "donor7_h5 <- Read10X_h5(paste(load.dir,'GSM5723849_Donor7_raw_feature_bc_matrix.h5',sep='/'), use.names = TRUE, unique.features = TRUE)\n"
   ]
  },
  {
   "cell_type": "code",
   "execution_count": 6,
   "metadata": {
    "collapsed": true
   },
   "outputs": [],
   "source": [
    "bcrank1 <- barcodeRanks(donor1_h5)\n",
    "bcrank2 <- barcodeRanks(donor2_h5)\n",
    "bcrank3 <- barcodeRanks(donor3_h5)\n",
    "bcrank4 <- barcodeRanks(donor4_h5)\n",
    "bcrank5 <- barcodeRanks(donor5_h5)\n",
    "bcrank6 <- barcodeRanks(donor6_h5)\n",
    "bcrank7 <- barcodeRanks(donor7_h5)"
   ]
  },
  {
   "cell_type": "code",
   "execution_count": 7,
   "metadata": {
    "collapsed": true
   },
   "outputs": [],
   "source": [
    "debris_donor1 <- donor1_h5[,donor1_h5['NEFH', ] >1 & bcrank1$total<2000 & bcrank1$total>100]\n",
    "donor1.debris.seurat <- CreateSeuratObject(debris_donor1)"
   ]
  },
  {
   "cell_type": "code",
   "execution_count": 8,
   "metadata": {
    "collapsed": true
   },
   "outputs": [],
   "source": [
    "debris_donor2 <- donor2_h5[,donor2_h5['NEFH', ] >1 & bcrank2$total<2000 & bcrank2$total>100]\n",
    "donor2.debris.seurat <- CreateSeuratObject(debris_donor2)"
   ]
  },
  {
   "cell_type": "code",
   "execution_count": 9,
   "metadata": {
    "collapsed": true
   },
   "outputs": [],
   "source": [
    "debris_donor3 <- donor3_h5[,donor3_h5['NEFH', ] >1 & bcrank3$total<2000 & bcrank3$total>100]\n",
    "donor3.debris.seurat <- CreateSeuratObject(debris_donor3)"
   ]
  },
  {
   "cell_type": "code",
   "execution_count": 10,
   "metadata": {
    "collapsed": true
   },
   "outputs": [],
   "source": [
    "debris_donor4 <- donor4_h5[,donor4_h5['NEFH', ] >1 & bcrank4$total<2000 & bcrank4$total>100]\n",
    "donor4.debris.seurat <- CreateSeuratObject(debris_donor4)"
   ]
  },
  {
   "cell_type": "code",
   "execution_count": 11,
   "metadata": {
    "collapsed": true
   },
   "outputs": [],
   "source": [
    "debris_donor5 <- donor5_h5[,donor5_h5['NEFH', ] >1 & bcrank5$total<2000 & bcrank5$total>100]\n",
    "donor5.debris.seurat <- CreateSeuratObject(debris_donor5)"
   ]
  },
  {
   "cell_type": "code",
   "execution_count": 12,
   "metadata": {
    "collapsed": true
   },
   "outputs": [],
   "source": [
    "debris_donor6 <- donor6_h5[,donor6_h5['NEFH', ] >1 & bcrank6$total<2000 & bcrank6$total>100]\n",
    "donor6.debris.seurat <- CreateSeuratObject(debris_donor6)"
   ]
  },
  {
   "cell_type": "code",
   "execution_count": 13,
   "metadata": {
    "collapsed": true
   },
   "outputs": [],
   "source": [
    "debris_donor7 <- donor7_h5[,donor7_h5['NEFH', ] >1 & bcrank7$total<2000 & bcrank7$total>100]\n",
    "donor7.debris.seurat <- CreateSeuratObject(debris_donor7)"
   ]
  },
  {
   "cell_type": "markdown",
   "metadata": {},
   "source": [
    "### Log Normalize list of Seurat Objects"
   ]
  },
  {
   "cell_type": "code",
   "execution_count": 14,
   "metadata": {
    "collapsed": true
   },
   "outputs": [],
   "source": [
    "normalize.aggregated.object <- function(experiment.aggregate) {\n",
    "    library(Seurat)\n",
    "    library(future)\n",
    "    print(\"splitting complete\")\n",
    "    for (i in 1:length(x = experiment.aggregate)) {\n",
    "        print(i)\n",
    "        experiment.aggregate[[i]] <- NormalizeData(object = experiment.aggregate[[i]], \n",
    "            verbose = TRUE)\n",
    "        print(\"normalization complete\")\n",
    "        experiment.aggregate[[i]] <- FindVariableFeatures(object = experiment.aggregate[[i]], \n",
    "            selection.method = \"vst\", nfeatures = 2000, verbose = TRUE)\n",
    "        print(\"variable feature selection complete\")\n",
    "    }\n",
    "    experiment.aggregate\n",
    "}"
   ]
  },
  {
   "cell_type": "code",
   "execution_count": 15,
   "metadata": {
    "collapsed": true
   },
   "outputs": [],
   "source": [
    "find.pcs.and.clustids <- function (exp.data, pc.dims = 30, scale.data = TRUE, feature.list = NULL) \n",
    "{\n",
    "    library(future)\n",
    "    library(doParallel)\n",
    "    if (scale.data == TRUE) {\n",
    "        exp.data <- ScaleData(object = exp.data, verbose = TRUE)\n",
    "    }\n",
    "    exp.data <- RunPCA(object = exp.data, npcs = pc.dims, verbose = TRUE, \n",
    "        features = feature.list)\n",
    "    exp.data <- RunUMAP(object = exp.data, reduction = \"pca\", \n",
    "        dims = 1:pc.dims)\n",
    "    exp.data <- FindNeighbors(exp.data, dims = 1:pc.dims)\n",
    "    exp.data <- FindClusters(exp.data, resolution = 0.5)\n",
    "    exp.data\n",
    "}"
   ]
  },
  {
   "cell_type": "code",
   "execution_count": null,
   "metadata": {},
   "outputs": [],
   "source": [
    "debris.objects.list <- c(donor1.debris.seurat, donor2.debris.seurat, donor3.debris.seurat, donor4.debris.seurat, donor5.debris.seurat, donor6.debris.seurat, donor7.debris.seurat)\n",
    "debris.objects.list.normalized <- normalize.aggregated.object(debris.objects.list)"
   ]
  },
  {
   "cell_type": "markdown",
   "metadata": {},
   "source": [
    "### Remove Mitochondrial Reads"
   ]
  },
  {
   "cell_type": "code",
   "execution_count": 17,
   "metadata": {
    "collapsed": true
   },
   "outputs": [],
   "source": [
    "for(i in 1:length(debris.objects.list.normalized)) {\n",
    "    counts <- GetAssayData(debris.objects.list.normalized[[i]], assay = \"RNA\")\n",
    "    mito_genes <- grep( \"^MT-\", rownames(debris.objects.list.normalized[[i]]), value = T)\n",
    "    counts <- counts[-(which(rownames(counts) %in% mito_genes)),]\n",
    "    debris.objects.list.normalized[[i]] <- subset(debris.objects.list.normalized[[i]], features = rownames(counts))\n",
    "    \n",
    "}"
   ]
  },
  {
   "cell_type": "markdown",
   "metadata": {},
   "source": [
    "### Find Variable Features etc"
   ]
  },
  {
   "cell_type": "code",
   "execution_count": null,
   "metadata": {},
   "outputs": [],
   "source": [
    "for(i in 1:length(debris.objects.list.normalized)) {\n",
    "    DefaultAssay(debris.objects.list.normalized[[i]]) <- 'RNA'\n",
    "    debris.objects.list.normalized[[i]] <- FindVariableFeatures(debris.objects.list.normalized[[i]])\n",
    "    debris.objects.list.normalized[[i]] <- find.pcs.and.clustids(debris.objects.list.normalized[[i]])\n",
    "    \n",
    "}"
   ]
  },
  {
   "cell_type": "markdown",
   "metadata": {},
   "source": [
    "### Integrate Across Datasets"
   ]
  },
  {
   "cell_type": "code",
   "execution_count": null,
   "metadata": {},
   "outputs": [],
   "source": [
    "debris.droplets.anchors <- FindIntegrationAnchors(object.list = debris.objects.list.normalized, )\n"
   ]
  },
  {
   "cell_type": "code",
   "execution_count": null,
   "metadata": {},
   "outputs": [
    {
     "name": "stderr",
     "output_type": "stream",
     "text": [
      "Merging dataset 5 into 1\n",
      "\n",
      "Extracting anchors for merged samples\n",
      "\n",
      "Finding integration vectors\n",
      "\n",
      "Finding integration vector weights\n",
      "\n",
      "Integrating data\n",
      "\n",
      "Merging dataset 3 into 1 5\n",
      "\n",
      "Extracting anchors for merged samples\n",
      "\n",
      "Finding integration vectors\n",
      "\n",
      "Finding integration vector weights\n",
      "\n",
      "Integrating data\n",
      "\n",
      "Merging dataset 4 into 1 5 3\n",
      "\n",
      "Extracting anchors for merged samples\n",
      "\n",
      "Finding integration vectors\n",
      "\n",
      "Finding integration vector weights\n",
      "\n",
      "Integrating data\n",
      "\n",
      "Merging dataset 2 into 1 5 3 4\n",
      "\n",
      "Extracting anchors for merged samples\n",
      "\n",
      "Finding integration vectors\n",
      "\n",
      "Finding integration vector weights\n",
      "\n",
      "Integrating data\n",
      "\n",
      "Merging dataset 6 into 1 5 3 4 2\n",
      "\n",
      "Extracting anchors for merged samples\n",
      "\n",
      "Finding integration vectors\n",
      "\n"
     ]
    }
   ],
   "source": [
    "debris.droplets.integrated <- IntegrateData(anchorset = debris.droplets.anchors, verbose=T)\n"
   ]
  },
  {
   "cell_type": "code",
   "execution_count": null,
   "metadata": {
    "collapsed": true
   },
   "outputs": [],
   "source": [
    "DefaultAssay(debris.droplets.integrated) <- 'RNA's\n",
    "debris.droplets.integrated <- FindVariableFeatures(debris.droplets.integrated)\n",
    "debris.droplets.integrated <- find.pcs.and.clustids(debris.droplets.integrated)"
   ]
  },
  {
   "cell_type": "markdown",
   "metadata": {},
   "source": [
    "### Based on expression of NEAT1 and NEFM, Clusters 2, 3, and 5 are neuronal debris"
   ]
  },
  {
   "cell_type": "code",
   "execution_count": null,
   "metadata": {
    "collapsed": true
   },
   "outputs": [],
   "source": [
    "DefaultAssay(debris.droplets.integrated) <- 'integrated'\n",
    "debris.droplets.integrated.final <- subset(debris.droplets.integrated, idents=c(2,3,5))"
   ]
  },
  {
   "cell_type": "code",
   "execution_count": null,
   "metadata": {
    "collapsed": true
   },
   "outputs": [],
   "source": [
    "DefaultAssay(debris.droplets.integrated) <- 'RNA'\n",
    "debris.droplets.integrated.final <- FindVariableFeatures(debris.droplets.integrated.final)\n",
    "debris.droplets.integrated.final <- find.pcs.and.clustids(debris.droplets.integrated.final)"
   ]
  },
  {
   "cell_type": "markdown",
   "metadata": {},
   "source": [
    "### Based on reclustering and NEAT1/NEFM expression, clusters 0,1,2 are neuronal debris"
   ]
  },
  {
   "cell_type": "code",
   "execution_count": null,
   "metadata": {
    "collapsed": true
   },
   "outputs": [],
   "source": [
    "DefaultAssay(debris.droplets.integrated.final) <- 'integrated'\n",
    "debris.droplets.integrated.neuronal <- subset(debris.droplets.integrated.final, idents=c(0,1,2))"
   ]
  },
  {
   "cell_type": "code",
   "execution_count": null,
   "metadata": {
    "collapsed": true
   },
   "outputs": [],
   "source": [
    "debris.droplets.integrated.neuronal <- FindVariableFeatures(debris.droplets.integrated.neuronal)\n",
    "debris.droplets.integrated.neuronal <- RunPCA(debris.droplets.integrated.neuronal)\n"
   ]
  },
  {
   "cell_type": "code",
   "execution_count": null,
   "metadata": {
    "collapsed": true
   },
   "outputs": [],
   "source": [
    "debris.droplets.integrated.neuronal <- FindNeighbors(debris.droplets.integrated.neuronal, dims = 1:20)\n",
    "debris.droplets.integrated.neuronal <- FindClusters(debris.droplets.integrated.neuronal, resolution = 2)"
   ]
  },
  {
   "cell_type": "code",
   "execution_count": null,
   "metadata": {
    "collapsed": true,
    "scrolled": true
   },
   "outputs": [],
   "source": [
    "debris.droplets.integrated.neuronal <- RunUMAP(debris.droplets.integrated.neuronal, dims = 1:20)"
   ]
  },
  {
   "cell_type": "code",
   "execution_count": null,
   "metadata": {
    "collapsed": true
   },
   "outputs": [],
   "source": [
    "neuronal_debris_umap <- DimPlot(debris.droplets.integrated.neuronal, label=T, raster = F, pt.size = 1.5)  + NoLegend()\n",
    "neuronal_debris_umap <- rasterize(neuronal_debris_umap, layers='Point', dpi=500)\n",
    "ggsave(filename = paste(fig_dir,'neuronal_debris_umap.svg', sep='/'),\n",
    "       plot= neuronal_debris_umap, device = 'svg')"
   ]
  },
  {
   "cell_type": "markdown",
   "metadata": {},
   "source": [
    "## Supplementary Figure S1e"
   ]
  },
  {
   "cell_type": "code",
   "execution_count": null,
   "metadata": {
    "collapsed": true
   },
   "outputs": [],
   "source": [
    "DefaultAssay(debris.droplets.integrated.neuronal) <- 'RNA'\n",
    "\n",
    "neuronal_debris_featureplot <- FeaturePlot(debris.droplets.integrated.neuronal, pt.size = 1,\n",
    "                                          features=c('SLC17A6', 'SLC6A5', 'SLC5A7', 'GAD1'), label=T) \n",
    "neuronal_debris_featureplot <- rasterize(neuronal_debris_featureplot, layers='Point', dpi=500)\n",
    "\n",
    "ggsave(filename = paste(fig_dir,'neuronal_debris_featureplot.svg', sep='/'),\n",
    "       plot= neuronal_debris_featureplot, device = 'svg')"
   ]
  },
  {
   "cell_type": "markdown",
   "metadata": {
    "collapsed": true
   },
   "source": [
    "## Supplementary Figure S1F\n"
   ]
  },
  {
   "cell_type": "code",
   "execution_count": null,
   "metadata": {
    "collapsed": true
   },
   "outputs": [],
   "source": [
    "neuronal.exp.mat <- AverageExpression(debris.droplets.integrated.neuronal, assays = 'RNA')$RNA"
   ]
  },
  {
   "cell_type": "code",
   "execution_count": null,
   "metadata": {
    "collapsed": true
   },
   "outputs": [],
   "source": [
    "marker.heatmap <- neuronal.exp.mat[c('SLC5A7', 'SLC17A6', \n",
    "                                    'SLC6A5', 'GAD1', 'ACLY','GAD2'),]"
   ]
  },
  {
   "cell_type": "code",
   "execution_count": null,
   "metadata": {
    "collapsed": true
   },
   "outputs": [],
   "source": [
    "marker.heatmap <- (marker.heatmap - rowMins(marker.heatmap))/(rowMaxs(marker.heatmap) - rowMins(marker.heatmap))"
   ]
  },
  {
   "cell_type": "code",
   "execution_count": null,
   "metadata": {
    "collapsed": true
   },
   "outputs": [],
   "source": [
    "colnames(marker.heatmap) <- paste('Cluster', colnames(marker.heatmap), sep=' ')"
   ]
  },
  {
   "cell_type": "code",
   "execution_count": null,
   "metadata": {
    "collapsed": true
   },
   "outputs": [],
   "source": [
    "neuronal_subclustering_heatmap <- \n",
    "    pheatmap(marker.heatmap, cluster_rows = TRUE, cluster_cols = TRUE, \n",
    "             filename = paste(fig_dir, 'neuronal_subclustering_heatmap.pdf', sep='/'), \n",
    "             width = 6.4, height = 5.5, fontsize = 14) "
   ]
  },
  {
   "cell_type": "code",
   "execution_count": null,
   "metadata": {
    "collapsed": true
   },
   "outputs": [],
   "source": [
    "# svglite(filename = paste(fig_dir, 'neuronal_subclustering.svg', sep='/'))\n",
    "# pheatmap(marker.heatmap,  scale='row', annotation_col = anno, show_colnames = FALSE, annotation_colors = list(cluster=colpal))\n",
    "\n",
    "# dev.off()"
   ]
  },
  {
   "cell_type": "markdown",
   "metadata": {},
   "source": [
    "## Supplementary Figure S1G"
   ]
  },
  {
   "cell_type": "code",
   "execution_count": null,
   "metadata": {
    "collapsed": true
   },
   "outputs": [],
   "source": [
    "cholinergic_glutamatergic_scatter <- FeatureScatter(debris.droplets.integrated.neuronal, pt.size=0.5, feature1=c('SLC5A7'), feature2='SLC17A6')\n",
    "cholinergic_glutamatergic_scatter <- rasterize(cholinergic_glutamatergic_scatter, layer= 'Point', dpi=500) + \n",
    "    NoLegend() + FontSize(x.title=14, y.title=14, x.text=14, y.text=14) + theme(plot.title=element_blank())"
   ]
  },
  {
   "cell_type": "code",
   "execution_count": null,
   "metadata": {
    "collapsed": true
   },
   "outputs": [],
   "source": [
    "cholinergic_glycinergic_scatter <- FeatureScatter(debris.droplets.integrated.neuronal, pt.size = 0.5, feature1=c('SLC5A7'), feature2='SLC6A5')\n",
    "cholinergic_glycinergic_scatter <- rasterize(cholinergic_glycinergic_scatter, layer= 'Point', dpi=500) + \n",
    "    NoLegend() + FontSize(x.title=14, y.title=14, x.text=14, y.text=14) + theme(plot.title=element_blank())"
   ]
  },
  {
   "cell_type": "code",
   "execution_count": null,
   "metadata": {
    "collapsed": true
   },
   "outputs": [],
   "source": [
    "cholinergic_gabaergic_scatter <- FeatureScatter(debris.droplets.integrated.neuronal, pt.size=0.5, feature1=c('SLC5A7'), feature2='GAD1')\n",
    "cholinergic_gabaergic_scatter <- rasterize(cholinergic_gabaergic_scatter, layer= 'Point', dpi=500) +\n",
    "    NoLegend() + FontSize(x.title=14, y.title=14, x.text=14, y.text=14) + theme(plot.title=element_blank())"
   ]
  },
  {
   "cell_type": "code",
   "execution_count": null,
   "metadata": {
    "collapsed": true,
    "scrolled": true
   },
   "outputs": [],
   "source": [
    "ggsave(filename = paste(fig_dir,'cholinergic_glutamatergic_scatter.svg', sep='/'),\n",
    "       plot= cholinergic_glutamatergic_scatter, device = 'svg', width=2, height=2, unit= 'in')"
   ]
  },
  {
   "cell_type": "code",
   "execution_count": null,
   "metadata": {
    "collapsed": true,
    "scrolled": true
   },
   "outputs": [],
   "source": [
    "ggsave(filename = paste(fig_dir,'cholinergic_glycinergic_scatter.svg', sep='/'),\n",
    "       plot= cholinergic_glycinergic_scatter, device = 'svg', width=2, height=2, unit= 'in')"
   ]
  },
  {
   "cell_type": "code",
   "execution_count": null,
   "metadata": {
    "collapsed": true,
    "scrolled": true
   },
   "outputs": [],
   "source": [
    "ggsave(filename = paste(fig_dir,'cholinergic_gabaergic_scatter.svg', sep='/'),\n",
    "       plot= cholinergic_gabaergic_scatter, device = 'svg', width=2, height=2, unit= 'in')"
   ]
  },
  {
   "cell_type": "code",
   "execution_count": null,
   "metadata": {
    "collapsed": true
   },
   "outputs": [],
   "source": [
    "saveRDS(debris.droplets.integrated.neuronal, file= '/oak/stanford/groups/agitler/Shared/Matters_Arising/Gautier_Yadav/debris_droplets_integrated_neuronal.RDS')\n"
   ]
  },
  {
   "cell_type": "code",
   "execution_count": null,
   "metadata": {
    "collapsed": true
   },
   "outputs": [],
   "source": [
    "debris.droplets.integrated.neuronal <- readRDS(file= '/oak/stanford/groups/agitler/Shared/Matters_Arising/Gautier_Yadav/debris_droplets_integrated_neuronal.RDS')\n"
   ]
  },
  {
   "cell_type": "code",
   "execution_count": null,
   "metadata": {
    "collapsed": true
   },
   "outputs": [],
   "source": [
    "debris.droplets.integrated.neuronal"
   ]
  }
 ],
 "metadata": {
  "kernelspec": {
   "display_name": "R 4.1.1",
   "language": "R",
   "name": "ir411"
  },
  "language_info": {
   "codemirror_mode": "r",
   "file_extension": ".r",
   "mimetype": "text/x-r-source",
   "name": "R",
   "pygments_lexer": "r",
   "version": "4.1.1"
  }
 },
 "nbformat": 4,
 "nbformat_minor": 2
}

{
 "cells": [
  {
   "cell_type": "code",
   "execution_count": 1,
   "metadata": {
    "collapsed": true
   },
   "outputs": [],
   "source": [
    "renv::init('/oak/stanford/groups/agitler/Shared/Shared_Jupyter_Notebook_Analysis/4.1.1-OG/')"
   ]
  },
  {
   "cell_type": "code",
   "execution_count": 2,
   "metadata": {},
   "outputs": [
    {
     "name": "stderr",
     "output_type": "stream",
     "text": [
      "\n",
      "Attaching package: ‘dplyr’\n",
      "\n",
      "\n",
      "The following objects are masked from ‘package:stats’:\n",
      "\n",
      "    filter, lag\n",
      "\n",
      "\n",
      "The following objects are masked from ‘package:base’:\n",
      "\n",
      "    intersect, setdiff, setequal, union\n",
      "\n",
      "\n",
      "Attaching SeuratObject\n",
      "\n",
      "Loading required package: grid\n",
      "\n",
      "========================================\n",
      "ComplexHeatmap version 2.10.0\n",
      "Bioconductor page: http://bioconductor.org/packages/ComplexHeatmap/\n",
      "Github page: https://github.com/jokergoo/ComplexHeatmap\n",
      "Documentation: http://jokergoo.github.io/ComplexHeatmap-reference\n",
      "\n",
      "If you use it in published research, please cite:\n",
      "Gu, Z. Complex heatmaps reveal patterns and correlations in multidimensional \n",
      "  genomic data. Bioinformatics 2016.\n",
      "\n",
      "The new InteractiveComplexHeatmap package can directly export static \n",
      "complex heatmaps into an interactive Shiny app with zero effort. Have a try!\n",
      "\n",
      "This message can be suppressed by:\n",
      "  suppressPackageStartupMessages(library(ComplexHeatmap))\n",
      "========================================\n",
      "\n",
      "\n",
      "\n",
      "Attaching package: ‘gplots’\n",
      "\n",
      "\n",
      "The following object is masked from ‘package:stats’:\n",
      "\n",
      "    lowess\n",
      "\n",
      "\n"
     ]
    }
   ],
   "source": [
    "library(dplyr)\n",
    "library(Seurat)\n",
    "library(ggplot2)\n",
    "library(ggrepel)\n",
    "library(ComplexHeatmap)\n",
    "library(gplots)\n",
    "library(ggrastr)"
   ]
  },
  {
   "cell_type": "markdown",
   "metadata": {},
   "source": [
    "## Save Directories for Figs + Tables"
   ]
  },
  {
   "cell_type": "code",
   "execution_count": 3,
   "metadata": {
    "collapsed": true
   },
   "outputs": [],
   "source": [
    "fig_dir <- '/oak/stanford/groups/agitler/Shared/Matters_Arising/Figure_Panels/Reviews'\n",
    "csv_dir <- '/oak/stanford/groups/agitler/Shared/Matters_Arising/CSV_Files'"
   ]
  },
  {
   "cell_type": "markdown",
   "metadata": {},
   "source": [
    "## Custom Function"
   ]
  },
  {
   "cell_type": "markdown",
   "metadata": {},
   "source": [
    "### Volcano plot"
   ]
  },
  {
   "cell_type": "code",
   "execution_count": 4,
   "metadata": {
    "collapsed": true
   },
   "outputs": [],
   "source": [
    "make_volcano_plot <- function(data, labeled_pts, labeled_genes=c(), p_val_cutoff=0.05, title, ylimits=NULL, xlimits=NULL, upper_log2FC_cutoff=0, lower_log2FC_cutoff=0, values = c(\"dodgerblue3\", \"gray50\", \"firebrick3\")) {\n",
    "    data <- data %>% \n",
    "    mutate(\n",
    "        Expression = case_when(avg_log2FC >= upper_log2FC_cutoff & p_val_adj <= p_val_cutoff ~ \"Up-regulated\",\n",
    "                           avg_log2FC <= lower_log2FC_cutoff & p_val_adj <= p_val_cutoff ~ \"Down-regulated\",\n",
    "                           TRUE ~ \"Unchanged\")\n",
    "    )\n",
    "\n",
    "\n",
    "    top <- labeled_pts\n",
    "   \n",
    "    top_genes <- bind_rows(\n",
    "      data %>% \n",
    "        filter(Expression == 'Up-regulated') %>% \n",
    "        arrange(p_val_adj, desc(abs(avg_log2FC))) %>% \n",
    "        head(top),\n",
    "      data %>% \n",
    "        filter(Expression == 'Down-regulated') %>% \n",
    "        arrange(p_val_adj, desc(abs(avg_log2FC))) %>% \n",
    "        head(top),\n",
    "      data %>% \n",
    "        filter(gene %in% labeled_genes)\n",
    "    )\n",
    "    \n",
    "\n",
    "    x_scale <- max(abs(data$avg_log2FC))\n",
    "    \n",
    "    p1 <- ggplot(data, aes(avg_log2FC, -log(p_val_adj,10))) + # -log10 conversion \n",
    "        labs(title = title) +\n",
    "        geom_point(aes(color = Expression), size = 8/5) +\n",
    "        geom_label_repel(data = top_genes, mapping = aes(avg_log2FC, -log(p_val_adj,10), label = gene),\n",
    "                        size = 4, max.overlaps=18)+\n",
    "        xlim(-x_scale,x_scale)+\n",
    "        xlab(expression(\"Avg. log\"[2]*\"FC\")) + \n",
    "        ylab(expression(\"-log\"[10]*\"(p adj)\")) + \n",
    "        scale_color_manual(values = values) + \n",
    "        guides(colour = guide_legend(override.aes = list(size=1.5)))  + \n",
    "        scale_y_continuous(limits = ylimits) +\n",
    "        scale_x_continuous(limits = xlimits) +\n",
    "        theme_classic() +\n",
    "        theme(axis.text = element_text(size = 15), axis.title = element_text(size = 15), plot.title = element_text(size = 18, face = \"bold\", hjust = 0.5))     \n",
    "p1  \n",
    "}"
   ]
  },
  {
   "cell_type": "markdown",
   "metadata": {
    "collapsed": true
   },
   "source": [
    "## Load data"
   ]
  },
  {
   "cell_type": "code",
   "execution_count": 5,
   "metadata": {
    "collapsed": true
   },
   "outputs": [],
   "source": [
    "gautier_neurons <- readRDS('/oak/stanford/groups/agitler/Shared/Matters_Arising/Gautier_Yadav/gautier_neurons.rds')\n",
    "yadav_neurons <- readRDS(file = '/oak/stanford/groups/agitler/Shared/Matters_Arising/Gautier_Yadav/yadav_neurons.rds')"
   ]
  },
  {
   "cell_type": "markdown",
   "metadata": {},
   "source": [
    "### ALS and cytoskeletal genes"
   ]
  },
  {
   "cell_type": "code",
   "execution_count": 6,
   "metadata": {
    "collapsed": true
   },
   "outputs": [],
   "source": [
    "als_cytoskeletal_genes <- c(\"NEFH\", \"OPTN\", \"PRPH\", \"SOD1\", \"STMN2\", \"TUBA4A\", \"CHCHD10\", \"KIF5A\", \"SPP1\", \"NEFL\", \"NEFM\", \"SNCG\", \"TMSB4X\", \"TUBA1B\", \"TUBA1A\", \"ACTG1\", \"TUBB4B\", \"UBB\", \"DYNC1H1\", \"YWHAG\", \"KIF21A\", \"TUBB2A\", \"KLC1\", \"MAP1B\", \"ACTB\")"
   ]
  },
  {
   "cell_type": "markdown",
   "metadata": {},
   "source": [
    "## Differential expression analysis with Gautier dataset"
   ]
  },
  {
   "cell_type": "code",
   "execution_count": 7,
   "metadata": {
    "collapsed": true
   },
   "outputs": [],
   "source": [
    "Idents(gautier_neurons) <- gautier_neurons$motor_neuron\n",
    "gautier_mn_markers <- FindMarkers(gautier_neurons, ident.1 = \"Motor Neurons\", ident.2 = \"Other Neurons\", logfc.threshold=0, min.pct=0, max.cells.per.ident = 40)"
   ]
  },
  {
   "cell_type": "code",
   "execution_count": 8,
   "metadata": {
    "collapsed": true
   },
   "outputs": [],
   "source": [
    "gautier_mn_markers$gene <- rownames(gautier_mn_markers)\n",
    "rownames(gautier_mn_markers) <- NULL"
   ]
  },
  {
   "cell_type": "code",
   "execution_count": 9,
   "metadata": {
    "collapsed": true
   },
   "outputs": [],
   "source": [
    "gautier_als_cytoskeletal <- dplyr::filter(gautier_mn_markers, gene %in% als_cytoskeletal_genes)\n",
    "gautier_als_cytoskeletal$p_val_adj = p.adjust(gautier_als_cytoskeletal$p_val, method='bonferroni')"
   ]
  },
  {
   "cell_type": "markdown",
   "metadata": {},
   "source": [
    "### Figure S1O"
   ]
  },
  {
   "cell_type": "code",
   "execution_count": 10,
   "metadata": {},
   "outputs": [
    {
     "name": "stderr",
     "output_type": "stream",
     "text": [
      "Scale for 'x' is already present. Adding another scale for 'x', which will\n",
      "replace the existing scale.\n",
      "\n"
     ]
    },
    {
     "data": {
      "image/png": "[encoded data removed]",
      "text/plain": [
       "plot without title"
      ]
     },
     "metadata": {
      "image/png": {
       "height": 420,
       "width": 420
      }
     },
     "output_type": "display_data"
    }
   ],
   "source": [
    "gautier_als_cytoskeletal_volcano_plot <- make_volcano_plot(gautier_als_cytoskeletal, 0, labeled_genes = c(\"NEFH\",\"OPTN\",\"PRPH\",\"SOD1\",\"STMN2\",\"TUBA4A\",\"SPP1\",\"NEFL\",\"KIF21A\",\"MAP1B\",\"CHCHD10\",\"KIF5A\"), title = \"Gautier\", ylimits = c(0,12), xlimits = c(-7,7)) \n",
    "gautier_als_cytoskeletal_volcano_plot <- rasterize(gautier_als_cytoskeletal_volcano_plot, layers=\"Point\", dpi=500) + NoLegend()\n",
    "gautier_als_cytoskeletal_volcano_plot"
   ]
  },
  {
   "cell_type": "code",
   "execution_count": 11,
   "metadata": {
    "collapsed": true
   },
   "outputs": [],
   "source": [
    "ggsave(gautier_als_cytoskeletal_volcano_plot, filename = paste(fig_dir, 'gautier_als_cytoskeletal_volcano_plot.svg', sep='/'),device='svg', width = 5.4834, height = 3.353, units = \"in\")"
   ]
  },
  {
   "cell_type": "code",
   "execution_count": 12,
   "metadata": {
    "collapsed": true
   },
   "outputs": [],
   "source": [
    "rownames(gautier_als_cytoskeletal) <- gautier_als_cytoskeletal$gene\n",
    "gautier_als_cytoskeletal <- dplyr::select(gautier_als_cytoskeletal, -gene)"
   ]
  },
  {
   "cell_type": "code",
   "execution_count": 13,
   "metadata": {},
   "outputs": [
    {
     "data": {
      "text/html": [
       "<table class=\"dataframe\">\n",
       "<caption>A data.frame: 25 × 5</caption>\n",
       "<thead>\n",
       "\t<tr><th></th><th scope=col>p_val</th><th scope=col>avg_log2FC</th><th scope=col>pct.1</th><th scope=col>pct.2</th><th scope=col>p_val_adj</th></tr>\n",
       "\t<tr><th></th><th scope=col>&lt;dbl&gt;</th><th scope=col>&lt;dbl&gt;</th><th scope=col>&lt;dbl&gt;</th><th scope=col>&lt;dbl&gt;</th><th scope=col>&lt;dbl&gt;</th></tr>\n",
       "</thead>\n",
       "<tbody>\n",
       "\t<tr><th scope=row>SPP1</th><td>1.271378e-09</td><td> 1.037609329</td><td>0.850</td><td>0.300</td><td>3.178446e-08</td></tr>\n",
       "\t<tr><th scope=row>PRPH</th><td>1.254566e-08</td><td> 0.467828586</td><td>0.600</td><td>0.009</td><td>3.136414e-07</td></tr>\n",
       "\t<tr><th scope=row>NEFH</th><td>4.326643e-07</td><td> 0.928255665</td><td>1.000</td><td>0.535</td><td>1.081661e-05</td></tr>\n",
       "\t<tr><th scope=row>KIF21A</th><td>4.487929e-07</td><td> 0.505977104</td><td>1.000</td><td>0.994</td><td>1.121982e-05</td></tr>\n",
       "\t<tr><th scope=row>MAP1B</th><td>1.774232e-06</td><td> 0.738470533</td><td>1.000</td><td>0.996</td><td>4.435581e-05</td></tr>\n",
       "\t<tr><th scope=row>UBB</th><td>4.938663e-04</td><td>-0.542604360</td><td>0.925</td><td>0.860</td><td>1.234666e-02</td></tr>\n",
       "\t<tr><th scope=row>STMN2</th><td>6.700356e-04</td><td> 0.572039665</td><td>1.000</td><td>0.980</td><td>1.675089e-02</td></tr>\n",
       "\t<tr><th scope=row>ACTB</th><td>8.652630e-04</td><td>-0.394341912</td><td>0.875</td><td>0.850</td><td>2.163158e-02</td></tr>\n",
       "\t<tr><th scope=row>NEFL</th><td>1.734374e-03</td><td> 0.737661144</td><td>1.000</td><td>0.842</td><td>4.335934e-02</td></tr>\n",
       "\t<tr><th scope=row>NEFM</th><td>2.718731e-02</td><td> 0.675221783</td><td>1.000</td><td>0.762</td><td>6.796828e-01</td></tr>\n",
       "\t<tr><th scope=row>TUBB4B</th><td>3.037673e-02</td><td>-0.173398598</td><td>0.725</td><td>0.749</td><td>7.594181e-01</td></tr>\n",
       "\t<tr><th scope=row>SNCG</th><td>4.086452e-02</td><td> 0.212248825</td><td>1.000</td><td>0.826</td><td>1.000000e+00</td></tr>\n",
       "\t<tr><th scope=row>TUBA1A</th><td>1.028852e-01</td><td>-0.172143104</td><td>0.950</td><td>0.930</td><td>1.000000e+00</td></tr>\n",
       "\t<tr><th scope=row>DYNC1H1</th><td>1.080615e-01</td><td> 0.244968203</td><td>0.975</td><td>0.955</td><td>1.000000e+00</td></tr>\n",
       "\t<tr><th scope=row>YWHAG</th><td>1.178745e-01</td><td>-0.149498139</td><td>0.950</td><td>0.921</td><td>1.000000e+00</td></tr>\n",
       "\t<tr><th scope=row>ACTG1</th><td>1.293648e-01</td><td>-0.072346873</td><td>0.900</td><td>0.811</td><td>1.000000e+00</td></tr>\n",
       "\t<tr><th scope=row>TUBB2A</th><td>1.421277e-01</td><td>-0.283287962</td><td>0.925</td><td>0.875</td><td>1.000000e+00</td></tr>\n",
       "\t<tr><th scope=row>KLC1</th><td>1.475173e-01</td><td> 0.241536983</td><td>0.975</td><td>0.915</td><td>1.000000e+00</td></tr>\n",
       "\t<tr><th scope=row>KIF5A</th><td>3.553741e-01</td><td> 0.116477488</td><td>0.975</td><td>0.791</td><td>1.000000e+00</td></tr>\n",
       "\t<tr><th scope=row>SOD1</th><td>5.829959e-01</td><td> 0.041600642</td><td>0.975</td><td>0.831</td><td>1.000000e+00</td></tr>\n",
       "\t<tr><th scope=row>TUBA4A</th><td>6.307498e-01</td><td> 0.005714948</td><td>0.850</td><td>0.622</td><td>1.000000e+00</td></tr>\n",
       "\t<tr><th scope=row>TUBA1B</th><td>6.615120e-01</td><td> 0.014628032</td><td>1.000</td><td>0.938</td><td>1.000000e+00</td></tr>\n",
       "\t<tr><th scope=row>TMSB4X</th><td>7.470127e-01</td><td> 0.217426527</td><td>0.925</td><td>0.788</td><td>1.000000e+00</td></tr>\n",
       "\t<tr><th scope=row>CHCHD10</th><td>9.153666e-01</td><td>-0.083322536</td><td>0.875</td><td>0.683</td><td>1.000000e+00</td></tr>\n",
       "\t<tr><th scope=row>OPTN</th><td>9.884758e-01</td><td> 0.001063918</td><td>0.950</td><td>0.768</td><td>1.000000e+00</td></tr>\n",
       "</tbody>\n",
       "</table>\n"
      ],
      "text/latex": [
       "A data.frame: 25 × 5\n",
       "\\begin{tabular}{r|lllll}\n",
       "  & p\\_val & avg\\_log2FC & pct.1 & pct.2 & p\\_val\\_adj\\\\\n",
       "  & <dbl> & <dbl> & <dbl> & <dbl> & <dbl>\\\\\n",
       "\\hline\n",
       "\tSPP1 & 1.271378e-09 &  1.037609329 & 0.850 & 0.300 & 3.178446e-08\\\\\n",
       "\tPRPH & 1.254566e-08 &  0.467828586 & 0.600 & 0.009 & 3.136414e-07\\\\\n",
       "\tNEFH & 4.326643e-07 &  0.928255665 & 1.000 & 0.535 & 1.081661e-05\\\\\n",
       "\tKIF21A & 4.487929e-07 &  0.505977104 & 1.000 & 0.994 & 1.121982e-05\\\\\n",
       "\tMAP1B & 1.774232e-06 &  0.738470533 & 1.000 & 0.996 & 4.435581e-05\\\\\n",
       "\tUBB & 4.938663e-04 & -0.542604360 & 0.925 & 0.860 & 1.234666e-02\\\\\n",
       "\tSTMN2 & 6.700356e-04 &  0.572039665 & 1.000 & 0.980 & 1.675089e-02\\\\\n",
       "\tACTB & 8.652630e-04 & -0.394341912 & 0.875 & 0.850 & 2.163158e-02\\\\\n",
       "\tNEFL & 1.734374e-03 &  0.737661144 & 1.000 & 0.842 & 4.335934e-02\\\\\n",
       "\tNEFM & 2.718731e-02 &  0.675221783 & 1.000 & 0.762 & 6.796828e-01\\\\\n",
       "\tTUBB4B & 3.037673e-02 & -0.173398598 & 0.725 & 0.749 & 7.594181e-01\\\\\n",
       "\tSNCG & 4.086452e-02 &  0.212248825 & 1.000 & 0.826 & 1.000000e+00\\\\\n",
       "\tTUBA1A & 1.028852e-01 & -0.172143104 & 0.950 & 0.930 & 1.000000e+00\\\\\n",
       "\tDYNC1H1 & 1.080615e-01 &  0.244968203 & 0.975 & 0.955 & 1.000000e+00\\\\\n",
       "\tYWHAG & 1.178745e-01 & -0.149498139 & 0.950 & 0.921 & 1.000000e+00\\\\\n",
       "\tACTG1 & 1.293648e-01 & -0.072346873 & 0.900 & 0.811 & 1.000000e+00\\\\\n",
       "\tTUBB2A & 1.421277e-01 & -0.283287962 & 0.925 & 0.875 & 1.000000e+00\\\\\n",
       "\tKLC1 & 1.475173e-01 &  0.241536983 & 0.975 & 0.915 & 1.000000e+00\\\\\n",
       "\tKIF5A & 3.553741e-01 &  0.116477488 & 0.975 & 0.791 & 1.000000e+00\\\\\n",
       "\tSOD1 & 5.829959e-01 &  0.041600642 & 0.975 & 0.831 & 1.000000e+00\\\\\n",
       "\tTUBA4A & 6.307498e-01 &  0.005714948 & 0.850 & 0.622 & 1.000000e+00\\\\\n",
       "\tTUBA1B & 6.615120e-01 &  0.014628032 & 1.000 & 0.938 & 1.000000e+00\\\\\n",
       "\tTMSB4X & 7.470127e-01 &  0.217426527 & 0.925 & 0.788 & 1.000000e+00\\\\\n",
       "\tCHCHD10 & 9.153666e-01 & -0.083322536 & 0.875 & 0.683 & 1.000000e+00\\\\\n",
       "\tOPTN & 9.884758e-01 &  0.001063918 & 0.950 & 0.768 & 1.000000e+00\\\\\n",
       "\\end{tabular}\n"
      ],
      "text/markdown": [
       "\n",
       "A data.frame: 25 × 5\n",
       "\n",
       "| <!--/--> | p_val &lt;dbl&gt; | avg_log2FC &lt;dbl&gt; | pct.1 &lt;dbl&gt; | pct.2 &lt;dbl&gt; | p_val_adj &lt;dbl&gt; |\n",
       "|---|---|---|---|---|---|\n",
       "| SPP1 | 1.271378e-09 |  1.037609329 | 0.850 | 0.300 | 3.178446e-08 |\n",
       "| PRPH | 1.254566e-08 |  0.467828586 | 0.600 | 0.009 | 3.136414e-07 |\n",
       "| NEFH | 4.326643e-07 |  0.928255665 | 1.000 | 0.535 | 1.081661e-05 |\n",
       "| KIF21A | 4.487929e-07 |  0.505977104 | 1.000 | 0.994 | 1.121982e-05 |\n",
       "| MAP1B | 1.774232e-06 |  0.738470533 | 1.000 | 0.996 | 4.435581e-05 |\n",
       "| UBB | 4.938663e-04 | -0.542604360 | 0.925 | 0.860 | 1.234666e-02 |\n",
       "| STMN2 | 6.700356e-04 |  0.572039665 | 1.000 | 0.980 | 1.675089e-02 |\n",
       "| ACTB | 8.652630e-04 | -0.394341912 | 0.875 | 0.850 | 2.163158e-02 |\n",
       "| NEFL | 1.734374e-03 |  0.737661144 | 1.000 | 0.842 | 4.335934e-02 |\n",
       "| NEFM | 2.718731e-02 |  0.675221783 | 1.000 | 0.762 | 6.796828e-01 |\n",
       "| TUBB4B | 3.037673e-02 | -0.173398598 | 0.725 | 0.749 | 7.594181e-01 |\n",
       "| SNCG | 4.086452e-02 |  0.212248825 | 1.000 | 0.826 | 1.000000e+00 |\n",
       "| TUBA1A | 1.028852e-01 | -0.172143104 | 0.950 | 0.930 | 1.000000e+00 |\n",
       "| DYNC1H1 | 1.080615e-01 |  0.244968203 | 0.975 | 0.955 | 1.000000e+00 |\n",
       "| YWHAG | 1.178745e-01 | -0.149498139 | 0.950 | 0.921 | 1.000000e+00 |\n",
       "| ACTG1 | 1.293648e-01 | -0.072346873 | 0.900 | 0.811 | 1.000000e+00 |\n",
       "| TUBB2A | 1.421277e-01 | -0.283287962 | 0.925 | 0.875 | 1.000000e+00 |\n",
       "| KLC1 | 1.475173e-01 |  0.241536983 | 0.975 | 0.915 | 1.000000e+00 |\n",
       "| KIF5A | 3.553741e-01 |  0.116477488 | 0.975 | 0.791 | 1.000000e+00 |\n",
       "| SOD1 | 5.829959e-01 |  0.041600642 | 0.975 | 0.831 | 1.000000e+00 |\n",
       "| TUBA4A | 6.307498e-01 |  0.005714948 | 0.850 | 0.622 | 1.000000e+00 |\n",
       "| TUBA1B | 6.615120e-01 |  0.014628032 | 1.000 | 0.938 | 1.000000e+00 |\n",
       "| TMSB4X | 7.470127e-01 |  0.217426527 | 0.925 | 0.788 | 1.000000e+00 |\n",
       "| CHCHD10 | 9.153666e-01 | -0.083322536 | 0.875 | 0.683 | 1.000000e+00 |\n",
       "| OPTN | 9.884758e-01 |  0.001063918 | 0.950 | 0.768 | 1.000000e+00 |\n",
       "\n"
      ],
      "text/plain": [
       "        p_val        avg_log2FC   pct.1 pct.2 p_val_adj   \n",
       "SPP1    1.271378e-09  1.037609329 0.850 0.300 3.178446e-08\n",
       "PRPH    1.254566e-08  0.467828586 0.600 0.009 3.136414e-07\n",
       "NEFH    4.326643e-07  0.928255665 1.000 0.535 1.081661e-05\n",
       "KIF21A  4.487929e-07  0.505977104 1.000 0.994 1.121982e-05\n",
       "MAP1B   1.774232e-06  0.738470533 1.000 0.996 4.435581e-05\n",
       "UBB     4.938663e-04 -0.542604360 0.925 0.860 1.234666e-02\n",
       "STMN2   6.700356e-04  0.572039665 1.000 0.980 1.675089e-02\n",
       "ACTB    8.652630e-04 -0.394341912 0.875 0.850 2.163158e-02\n",
       "NEFL    1.734374e-03  0.737661144 1.000 0.842 4.335934e-02\n",
       "NEFM    2.718731e-02  0.675221783 1.000 0.762 6.796828e-01\n",
       "TUBB4B  3.037673e-02 -0.173398598 0.725 0.749 7.594181e-01\n",
       "SNCG    4.086452e-02  0.212248825 1.000 0.826 1.000000e+00\n",
       "TUBA1A  1.028852e-01 -0.172143104 0.950 0.930 1.000000e+00\n",
       "DYNC1H1 1.080615e-01  0.244968203 0.975 0.955 1.000000e+00\n",
       "YWHAG   1.178745e-01 -0.149498139 0.950 0.921 1.000000e+00\n",
       "ACTG1   1.293648e-01 -0.072346873 0.900 0.811 1.000000e+00\n",
       "TUBB2A  1.421277e-01 -0.283287962 0.925 0.875 1.000000e+00\n",
       "KLC1    1.475173e-01  0.241536983 0.975 0.915 1.000000e+00\n",
       "KIF5A   3.553741e-01  0.116477488 0.975 0.791 1.000000e+00\n",
       "SOD1    5.829959e-01  0.041600642 0.975 0.831 1.000000e+00\n",
       "TUBA4A  6.307498e-01  0.005714948 0.850 0.622 1.000000e+00\n",
       "TUBA1B  6.615120e-01  0.014628032 1.000 0.938 1.000000e+00\n",
       "TMSB4X  7.470127e-01  0.217426527 0.925 0.788 1.000000e+00\n",
       "CHCHD10 9.153666e-01 -0.083322536 0.875 0.683 1.000000e+00\n",
       "OPTN    9.884758e-01  0.001063918 0.950 0.768 1.000000e+00"
      ]
     },
     "metadata": {},
     "output_type": "display_data"
    }
   ],
   "source": [
    "gautier_als_cytoskeletal"
   ]
  },
  {
   "cell_type": "markdown",
   "metadata": {
    "collapsed": true
   },
   "source": [
    "### Table S1C (related to Figure S1O)"
   ]
  },
  {
   "cell_type": "code",
   "execution_count": 14,
   "metadata": {
    "collapsed": true
   },
   "outputs": [],
   "source": [
    "write.csv(gautier_als_cytoskeletal, file=paste(csv_dir, 'Reviews/Table S1C.csv', sep='/'))"
   ]
  },
  {
   "cell_type": "markdown",
   "metadata": {
    "collapsed": true
   },
   "source": [
    "## Differential expression analysis with Yadav dataset"
   ]
  },
  {
   "cell_type": "code",
   "execution_count": 15,
   "metadata": {
    "collapsed": true
   },
   "outputs": [],
   "source": [
    "Idents(yadav_neurons) <- yadav_neurons$motor_neuron\n",
    "yadav_mn_markers <- FindMarkers(yadav_neurons, ident.1 = \"Motor Neurons\", ident.2 = \"Other Neurons\", logfc.threshold=0, min.pct=0, max.cells.per.ident = 40)"
   ]
  },
  {
   "cell_type": "code",
   "execution_count": 16,
   "metadata": {
    "collapsed": true
   },
   "outputs": [],
   "source": [
    "yadav_mn_markers$gene <- rownames(yadav_mn_markers)\n",
    "rownames(yadav_mn_markers) <- NULL"
   ]
  },
  {
   "cell_type": "code",
   "execution_count": 17,
   "metadata": {
    "collapsed": true
   },
   "outputs": [],
   "source": [
    "yadav_als_cytoskeletal <- dplyr::filter(yadav_mn_markers, gene %in% als_cytoskeletal_genes)\n",
    "yadav_als_cytoskeletal$p_val_adj = p.adjust(yadav_als_cytoskeletal$p_val, method='bonferroni')"
   ]
  },
  {
   "cell_type": "markdown",
   "metadata": {
    "collapsed": true
   },
   "source": [
    "### Figure S1P"
   ]
  },
  {
   "cell_type": "code",
   "execution_count": 18,
   "metadata": {},
   "outputs": [
    {
     "name": "stderr",
     "output_type": "stream",
     "text": [
      "Scale for 'x' is already present. Adding another scale for 'x', which will\n",
      "replace the existing scale.\n",
      "\n"
     ]
    },
    {
     "data": {
      "image/png": "[encoded data removed]",
      "text/plain": [
       "plot without title"
      ]
     },
     "metadata": {
      "image/png": {
       "height": 420,
       "width": 420
      }
     },
     "output_type": "display_data"
    }
   ],
   "source": [
    "yadav_als_cytoskeletal_volcano_plot <- make_volcano_plot(yadav_als_cytoskeletal, 0, labeled_genes = c(\"NEFH\",\"OPTN\",\"PRPH\",\"SOD1\",\"STMN2\",\"TUBA4A\",\"SPP1\",\"NEFL\",\"KIF21A\",\"MAP1B\",\"CHCHD10\",\"KIF5A\"), title = \"Yadav\", ylimits = c(0,12), xlimits = c(-7,7), values = c(\"gray50\", \"firebrick3\")) \n",
    "yadav_als_cytoskeletal_volcano_plot <- rasterize(yadav_als_cytoskeletal_volcano_plot, layers=\"Point\", dpi=500) + NoLegend()\n",
    "yadav_als_cytoskeletal_volcano_plot"
   ]
  },
  {
   "cell_type": "code",
   "execution_count": 19,
   "metadata": {
    "collapsed": true
   },
   "outputs": [],
   "source": [
    "ggsave(yadav_als_cytoskeletal_volcano_plot, filename = paste(fig_dir, 'yadav_als_cytoskeletal_volcano_plot.svg', sep='/'),device='svg', width = 5.4834, height = 3.353, units = \"in\")"
   ]
  },
  {
   "cell_type": "code",
   "execution_count": 20,
   "metadata": {
    "collapsed": true
   },
   "outputs": [],
   "source": [
    "rownames(yadav_als_cytoskeletal) <- yadav_als_cytoskeletal$gene\n",
    "yadav_als_cytoskeletal <- dplyr::select(yadav_als_cytoskeletal, -gene)"
   ]
  },
  {
   "cell_type": "code",
   "execution_count": 21,
   "metadata": {},
   "outputs": [
    {
     "data": {
      "text/html": [
       "<table class=\"dataframe\">\n",
       "<caption>A data.frame: 25 × 5</caption>\n",
       "<thead>\n",
       "\t<tr><th></th><th scope=col>p_val</th><th scope=col>avg_log2FC</th><th scope=col>pct.1</th><th scope=col>pct.2</th><th scope=col>p_val_adj</th></tr>\n",
       "\t<tr><th></th><th scope=col>&lt;dbl&gt;</th><th scope=col>&lt;dbl&gt;</th><th scope=col>&lt;dbl&gt;</th><th scope=col>&lt;dbl&gt;</th><th scope=col>&lt;dbl&gt;</th></tr>\n",
       "</thead>\n",
       "<tbody>\n",
       "\t<tr><th scope=row>SPP1</th><td>1.582270e-12</td><td>4.9286215</td><td>0.943</td><td>0.676</td><td>3.955675e-11</td></tr>\n",
       "\t<tr><th scope=row>TUBA1A</th><td>8.854419e-11</td><td>3.7019377</td><td>0.862</td><td>0.750</td><td>2.213605e-09</td></tr>\n",
       "\t<tr><th scope=row>MAP1B</th><td>2.805483e-09</td><td>3.6640944</td><td>0.914</td><td>0.947</td><td>7.013707e-08</td></tr>\n",
       "\t<tr><th scope=row>PRPH</th><td>3.354635e-08</td><td>3.9207108</td><td>0.648</td><td>0.043</td><td>8.386587e-07</td></tr>\n",
       "\t<tr><th scope=row>ACTG1</th><td>4.966641e-08</td><td>3.6868615</td><td>0.794</td><td>0.619</td><td>1.241660e-06</td></tr>\n",
       "\t<tr><th scope=row>NEFL</th><td>7.838398e-08</td><td>6.3181092</td><td>0.819</td><td>0.580</td><td>1.959599e-06</td></tr>\n",
       "\t<tr><th scope=row>NEFH</th><td>9.258670e-08</td><td>6.3746662</td><td>0.803</td><td>0.459</td><td>2.314667e-06</td></tr>\n",
       "\t<tr><th scope=row>ACTB</th><td>7.746702e-07</td><td>3.3135486</td><td>0.826</td><td>0.743</td><td>1.936675e-05</td></tr>\n",
       "\t<tr><th scope=row>KIF21A</th><td>9.004658e-07</td><td>2.1312771</td><td>0.764</td><td>0.902</td><td>2.251165e-05</td></tr>\n",
       "\t<tr><th scope=row>YWHAG</th><td>2.684842e-06</td><td>2.9215572</td><td>0.746</td><td>0.728</td><td>6.712105e-05</td></tr>\n",
       "\t<tr><th scope=row>NEFM</th><td>2.814978e-06</td><td>6.0519490</td><td>0.835</td><td>0.641</td><td>7.037444e-05</td></tr>\n",
       "\t<tr><th scope=row>SOD1</th><td>3.238207e-06</td><td>3.0058254</td><td>0.652</td><td>0.479</td><td>8.095519e-05</td></tr>\n",
       "\t<tr><th scope=row>DYNC1H1</th><td>1.739079e-05</td><td>2.2891165</td><td>0.745</td><td>0.846</td><td>4.347699e-04</td></tr>\n",
       "\t<tr><th scope=row>TUBB4B</th><td>2.165297e-05</td><td>3.1085899</td><td>0.660</td><td>0.482</td><td>5.413241e-04</td></tr>\n",
       "\t<tr><th scope=row>TUBB2A</th><td>2.271278e-05</td><td>3.7754316</td><td>0.751</td><td>0.637</td><td>5.678195e-04</td></tr>\n",
       "\t<tr><th scope=row>STMN2</th><td>5.273508e-05</td><td>3.1189580</td><td>0.768</td><td>0.796</td><td>1.318377e-03</td></tr>\n",
       "\t<tr><th scope=row>TMSB4X</th><td>1.314622e-04</td><td>3.1523902</td><td>0.750</td><td>0.624</td><td>3.286556e-03</td></tr>\n",
       "\t<tr><th scope=row>TUBA4A</th><td>1.444535e-04</td><td>2.8921021</td><td>0.600</td><td>0.386</td><td>3.611337e-03</td></tr>\n",
       "\t<tr><th scope=row>UBB</th><td>2.200440e-04</td><td>2.9711547</td><td>0.663</td><td>0.518</td><td>5.501101e-03</td></tr>\n",
       "\t<tr><th scope=row>TUBA1B</th><td>2.608706e-04</td><td>3.2769742</td><td>0.784</td><td>0.685</td><td>6.521765e-03</td></tr>\n",
       "\t<tr><th scope=row>OPTN</th><td>4.938148e-04</td><td>0.4481445</td><td>0.186</td><td>0.579</td><td>1.234537e-02</td></tr>\n",
       "\t<tr><th scope=row>SNCG</th><td>5.106826e-04</td><td>2.9538955</td><td>0.678</td><td>0.581</td><td>1.276706e-02</td></tr>\n",
       "\t<tr><th scope=row>KLC1</th><td>4.478113e-02</td><td>2.8814521</td><td>0.696</td><td>0.655</td><td>1.000000e+00</td></tr>\n",
       "\t<tr><th scope=row>CHCHD10</th><td>2.684575e-01</td><td>1.7180393</td><td>0.418</td><td>0.502</td><td>1.000000e+00</td></tr>\n",
       "\t<tr><th scope=row>KIF5A</th><td>8.405726e-01</td><td>2.0733580</td><td>0.558</td><td>0.681</td><td>1.000000e+00</td></tr>\n",
       "</tbody>\n",
       "</table>\n"
      ],
      "text/latex": [
       "A data.frame: 25 × 5\n",
       "\\begin{tabular}{r|lllll}\n",
       "  & p\\_val & avg\\_log2FC & pct.1 & pct.2 & p\\_val\\_adj\\\\\n",
       "  & <dbl> & <dbl> & <dbl> & <dbl> & <dbl>\\\\\n",
       "\\hline\n",
       "\tSPP1 & 1.582270e-12 & 4.9286215 & 0.943 & 0.676 & 3.955675e-11\\\\\n",
       "\tTUBA1A & 8.854419e-11 & 3.7019377 & 0.862 & 0.750 & 2.213605e-09\\\\\n",
       "\tMAP1B & 2.805483e-09 & 3.6640944 & 0.914 & 0.947 & 7.013707e-08\\\\\n",
       "\tPRPH & 3.354635e-08 & 3.9207108 & 0.648 & 0.043 & 8.386587e-07\\\\\n",
       "\tACTG1 & 4.966641e-08 & 3.6868615 & 0.794 & 0.619 & 1.241660e-06\\\\\n",
       "\tNEFL & 7.838398e-08 & 6.3181092 & 0.819 & 0.580 & 1.959599e-06\\\\\n",
       "\tNEFH & 9.258670e-08 & 6.3746662 & 0.803 & 0.459 & 2.314667e-06\\\\\n",
       "\tACTB & 7.746702e-07 & 3.3135486 & 0.826 & 0.743 & 1.936675e-05\\\\\n",
       "\tKIF21A & 9.004658e-07 & 2.1312771 & 0.764 & 0.902 & 2.251165e-05\\\\\n",
       "\tYWHAG & 2.684842e-06 & 2.9215572 & 0.746 & 0.728 & 6.712105e-05\\\\\n",
       "\tNEFM & 2.814978e-06 & 6.0519490 & 0.835 & 0.641 & 7.037444e-05\\\\\n",
       "\tSOD1 & 3.238207e-06 & 3.0058254 & 0.652 & 0.479 & 8.095519e-05\\\\\n",
       "\tDYNC1H1 & 1.739079e-05 & 2.2891165 & 0.745 & 0.846 & 4.347699e-04\\\\\n",
       "\tTUBB4B & 2.165297e-05 & 3.1085899 & 0.660 & 0.482 & 5.413241e-04\\\\\n",
       "\tTUBB2A & 2.271278e-05 & 3.7754316 & 0.751 & 0.637 & 5.678195e-04\\\\\n",
       "\tSTMN2 & 5.273508e-05 & 3.1189580 & 0.768 & 0.796 & 1.318377e-03\\\\\n",
       "\tTMSB4X & 1.314622e-04 & 3.1523902 & 0.750 & 0.624 & 3.286556e-03\\\\\n",
       "\tTUBA4A & 1.444535e-04 & 2.8921021 & 0.600 & 0.386 & 3.611337e-03\\\\\n",
       "\tUBB & 2.200440e-04 & 2.9711547 & 0.663 & 0.518 & 5.501101e-03\\\\\n",
       "\tTUBA1B & 2.608706e-04 & 3.2769742 & 0.784 & 0.685 & 6.521765e-03\\\\\n",
       "\tOPTN & 4.938148e-04 & 0.4481445 & 0.186 & 0.579 & 1.234537e-02\\\\\n",
       "\tSNCG & 5.106826e-04 & 2.9538955 & 0.678 & 0.581 & 1.276706e-02\\\\\n",
       "\tKLC1 & 4.478113e-02 & 2.8814521 & 0.696 & 0.655 & 1.000000e+00\\\\\n",
       "\tCHCHD10 & 2.684575e-01 & 1.7180393 & 0.418 & 0.502 & 1.000000e+00\\\\\n",
       "\tKIF5A & 8.405726e-01 & 2.0733580 & 0.558 & 0.681 & 1.000000e+00\\\\\n",
       "\\end{tabular}\n"
      ],
      "text/markdown": [
       "\n",
       "A data.frame: 25 × 5\n",
       "\n",
       "| <!--/--> | p_val &lt;dbl&gt; | avg_log2FC &lt;dbl&gt; | pct.1 &lt;dbl&gt; | pct.2 &lt;dbl&gt; | p_val_adj &lt;dbl&gt; |\n",
       "|---|---|---|---|---|---|\n",
       "| SPP1 | 1.582270e-12 | 4.9286215 | 0.943 | 0.676 | 3.955675e-11 |\n",
       "| TUBA1A | 8.854419e-11 | 3.7019377 | 0.862 | 0.750 | 2.213605e-09 |\n",
       "| MAP1B | 2.805483e-09 | 3.6640944 | 0.914 | 0.947 | 7.013707e-08 |\n",
       "| PRPH | 3.354635e-08 | 3.9207108 | 0.648 | 0.043 | 8.386587e-07 |\n",
       "| ACTG1 | 4.966641e-08 | 3.6868615 | 0.794 | 0.619 | 1.241660e-06 |\n",
       "| NEFL | 7.838398e-08 | 6.3181092 | 0.819 | 0.580 | 1.959599e-06 |\n",
       "| NEFH | 9.258670e-08 | 6.3746662 | 0.803 | 0.459 | 2.314667e-06 |\n",
       "| ACTB | 7.746702e-07 | 3.3135486 | 0.826 | 0.743 | 1.936675e-05 |\n",
       "| KIF21A | 9.004658e-07 | 2.1312771 | 0.764 | 0.902 | 2.251165e-05 |\n",
       "| YWHAG | 2.684842e-06 | 2.9215572 | 0.746 | 0.728 | 6.712105e-05 |\n",
       "| NEFM | 2.814978e-06 | 6.0519490 | 0.835 | 0.641 | 7.037444e-05 |\n",
       "| SOD1 | 3.238207e-06 | 3.0058254 | 0.652 | 0.479 | 8.095519e-05 |\n",
       "| DYNC1H1 | 1.739079e-05 | 2.2891165 | 0.745 | 0.846 | 4.347699e-04 |\n",
       "| TUBB4B | 2.165297e-05 | 3.1085899 | 0.660 | 0.482 | 5.413241e-04 |\n",
       "| TUBB2A | 2.271278e-05 | 3.7754316 | 0.751 | 0.637 | 5.678195e-04 |\n",
       "| STMN2 | 5.273508e-05 | 3.1189580 | 0.768 | 0.796 | 1.318377e-03 |\n",
       "| TMSB4X | 1.314622e-04 | 3.1523902 | 0.750 | 0.624 | 3.286556e-03 |\n",
       "| TUBA4A | 1.444535e-04 | 2.8921021 | 0.600 | 0.386 | 3.611337e-03 |\n",
       "| UBB | 2.200440e-04 | 2.9711547 | 0.663 | 0.518 | 5.501101e-03 |\n",
       "| TUBA1B | 2.608706e-04 | 3.2769742 | 0.784 | 0.685 | 6.521765e-03 |\n",
       "| OPTN | 4.938148e-04 | 0.4481445 | 0.186 | 0.579 | 1.234537e-02 |\n",
       "| SNCG | 5.106826e-04 | 2.9538955 | 0.678 | 0.581 | 1.276706e-02 |\n",
       "| KLC1 | 4.478113e-02 | 2.8814521 | 0.696 | 0.655 | 1.000000e+00 |\n",
       "| CHCHD10 | 2.684575e-01 | 1.7180393 | 0.418 | 0.502 | 1.000000e+00 |\n",
       "| KIF5A | 8.405726e-01 | 2.0733580 | 0.558 | 0.681 | 1.000000e+00 |\n",
       "\n"
      ],
      "text/plain": [
       "        p_val        avg_log2FC pct.1 pct.2 p_val_adj   \n",
       "SPP1    1.582270e-12 4.9286215  0.943 0.676 3.955675e-11\n",
       "TUBA1A  8.854419e-11 3.7019377  0.862 0.750 2.213605e-09\n",
       "MAP1B   2.805483e-09 3.6640944  0.914 0.947 7.013707e-08\n",
       "PRPH    3.354635e-08 3.9207108  0.648 0.043 8.386587e-07\n",
       "ACTG1   4.966641e-08 3.6868615  0.794 0.619 1.241660e-06\n",
       "NEFL    7.838398e-08 6.3181092  0.819 0.580 1.959599e-06\n",
       "NEFH    9.258670e-08 6.3746662  0.803 0.459 2.314667e-06\n",
       "ACTB    7.746702e-07 3.3135486  0.826 0.743 1.936675e-05\n",
       "KIF21A  9.004658e-07 2.1312771  0.764 0.902 2.251165e-05\n",
       "YWHAG   2.684842e-06 2.9215572  0.746 0.728 6.712105e-05\n",
       "NEFM    2.814978e-06 6.0519490  0.835 0.641 7.037444e-05\n",
       "SOD1    3.238207e-06 3.0058254  0.652 0.479 8.095519e-05\n",
       "DYNC1H1 1.739079e-05 2.2891165  0.745 0.846 4.347699e-04\n",
       "TUBB4B  2.165297e-05 3.1085899  0.660 0.482 5.413241e-04\n",
       "TUBB2A  2.271278e-05 3.7754316  0.751 0.637 5.678195e-04\n",
       "STMN2   5.273508e-05 3.1189580  0.768 0.796 1.318377e-03\n",
       "TMSB4X  1.314622e-04 3.1523902  0.750 0.624 3.286556e-03\n",
       "TUBA4A  1.444535e-04 2.8921021  0.600 0.386 3.611337e-03\n",
       "UBB     2.200440e-04 2.9711547  0.663 0.518 5.501101e-03\n",
       "TUBA1B  2.608706e-04 3.2769742  0.784 0.685 6.521765e-03\n",
       "OPTN    4.938148e-04 0.4481445  0.186 0.579 1.234537e-02\n",
       "SNCG    5.106826e-04 2.9538955  0.678 0.581 1.276706e-02\n",
       "KLC1    4.478113e-02 2.8814521  0.696 0.655 1.000000e+00\n",
       "CHCHD10 2.684575e-01 1.7180393  0.418 0.502 1.000000e+00\n",
       "KIF5A   8.405726e-01 2.0733580  0.558 0.681 1.000000e+00"
      ]
     },
     "metadata": {},
     "output_type": "display_data"
    }
   ],
   "source": [
    "yadav_als_cytoskeletal"
   ]
  },
  {
   "cell_type": "markdown",
   "metadata": {},
   "source": [
    "### Table S1D (related to Figure S1P)"
   ]
  },
  {
   "cell_type": "code",
   "execution_count": 22,
   "metadata": {
    "collapsed": true
   },
   "outputs": [],
   "source": [
    "write.csv(yadav_als_cytoskeletal, file=paste(csv_dir, 'Reviews/Table S1D.csv', sep='/'))"
   ]
  },
  {
   "cell_type": "markdown",
   "metadata": {
    "collapsed": true
   },
   "source": [
    "## ALS and cytoskeletal gene enrichment box plots"
   ]
  },
  {
   "cell_type": "code",
   "execution_count": 23,
   "metadata": {
    "collapsed": true
   },
   "outputs": [],
   "source": [
    "gautier_als_cytoskeletal$study <- \"Gautier\"\n",
    "yadav_als_cytoskeletal$study <- \"Yadav\"\n",
    "als_cytoskeletal <- dplyr::bind_rows(gautier_als_cytoskeletal, yadav_als_cytoskeletal)"
   ]
  },
  {
   "cell_type": "markdown",
   "metadata": {},
   "source": [
    "### Figure S1Q"
   ]
  },
  {
   "cell_type": "code",
   "execution_count": 24,
   "metadata": {},
   "outputs": [
    {
     "data": {
      "image/png": "[encoded data removed]",
      "text/plain": [
       "plot without title"
      ]
     },
     "metadata": {
      "image/png": {
       "height": 420,
       "width": 420
      }
     },
     "output_type": "display_data"
    }
   ],
   "source": [
    "als_cytoskeletal_boxplot <- ggplot(als_cytoskeletal, aes(study, avg_log2FC, fill = study)) + geom_boxplot() +\n",
    "  labs(y = expression(\"Avg. log\"[2]*\"FC\")) + theme_classic() + \n",
    "  theme(axis.title.x = element_blank(), legend.position=\"none\", axis.text = element_text(size = 15), axis.title = element_text(size = 15))\n",
    "\n",
    "als_cytoskeletal_boxplot"
   ]
  },
  {
   "cell_type": "code",
   "execution_count": 25,
   "metadata": {
    "collapsed": true
   },
   "outputs": [],
   "source": [
    "ggsave(als_cytoskeletal_boxplot, filename = paste(fig_dir, 'als_cytoskeletal_boxplot.svg', sep='/'), device='svg', width = 1.9, height = 3.0689, units = \"in\")"
   ]
  },
  {
   "cell_type": "code",
   "execution_count": null,
   "metadata": {
    "collapsed": true
   },
   "outputs": [],
   "source": []
  }
 ],
 "metadata": {
  "kernelspec": {
   "display_name": "R-4.1.1",
   "language": "R",
   "name": "ir"
  },
  "language_info": {
   "codemirror_mode": "r",
   "file_extension": ".r",
   "mimetype": "text/x-r-source",
   "name": "R",
   "pygments_lexer": "r",
   "version": "4.1.1"
  }
 },
 "nbformat": 4,
 "nbformat_minor": 2
}
